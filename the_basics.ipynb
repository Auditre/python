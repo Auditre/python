{
 "cells": [
  {
   "cell_type": "code",
   "execution_count": null,
   "metadata": {},
   "outputs": [],
   "source": []
  },
  {
   "cell_type": "markdown",
   "metadata": {},
   "source": [
    "# Python: the basics\n",
    "*Written by Michael D Sanchez for College of the Canyons' Association for Computing Machinery*\n",
    "\n",
    "**Contents**\n",
    "- [Variable Assignment](http://localhost:8888/notebooks/the_basics.ipynb#Variable-Assignment)\n",
    "- [Type Casting](http://localhost:8888/notebooks/the_basics.ipynb#Casting)\n",
    "- [String Types](http://localhost:8888/notebooks/the_basics.ipynb#Strings)\n",
    "- [String Manipulation](http://localhost:8888/notebooks/the_basics.ipynb#Manipulation)\n",
    "- [Containers](http://localhost:8888/notebooks/the_basics.ipynb#Containers)\n",
    "\n",
    "## Variable Assignment\n",
    "Python is a strongly, dynamically typed language. This means that the data type of a variable does not need to be declared and the type of a value cannot suddenly change. For example, when you concatenate a **string** with an **integer** in Java (strong:\n",
    "```\n",
    "String test = 5 + \" out of \" + 10;\n",
    "```\n",
    "The **integers** *5* and *10* are implicitly converted to a **string**. This same method does not work in Python, since there is no operation that adds a **string** and an **integer**. Instead, you would either use a different concatenation method or cast the **integers** to **strings**:\n",
    "```\n",
    "test = str(10) + \" out of \" + str(10)\n",
    "```\n",
    "- In a strongly typed language you can't perform operations inappropriate to the type of the object, and every change in type requires an explicit conversion.\n",
    "- dynamically typed, means that the type of a value is determined at runtime. A variable is simply an identifier that is tied to that typed value.\n",
    "\n",
    "The type of a value can be returned using the `type()` function. You will find this very valuable for debugging. For variable assignments, use the **assignment operator** `=` Variables can also be reassigned to a value of a different type by using this same operator."
   ]
  },
  {
   "cell_type": "code",
   "execution_count": 1,
   "metadata": {},
   "outputs": [
    {
     "name": "stdout",
     "output_type": "stream",
     "text": [
      "10\n"
     ]
    },
    {
     "data": {
      "text/plain": [
       "int"
      ]
     },
     "execution_count": 1,
     "metadata": {},
     "output_type": "execute_result"
    }
   ],
   "source": [
    "x = 5 + 5  # int assignment\n",
    "print(x)\n",
    "type(x)"
   ]
  },
  {
   "cell_type": "code",
   "execution_count": 2,
   "metadata": {},
   "outputs": [
    {
     "name": "stdout",
     "output_type": "stream",
     "text": [
      "10.5\n"
     ]
    },
    {
     "data": {
      "text/plain": [
       "float"
      ]
     },
     "execution_count": 2,
     "metadata": {},
     "output_type": "execute_result"
    }
   ],
   "source": [
    "x = 5 + 5.5  # float reassignment\n",
    "print(x)\n",
    "type(x)"
   ]
  },
  {
   "cell_type": "markdown",
   "metadata": {},
   "source": [
    "## Casting\n",
    "Every data type has a function for casting to that type, where `x` is the value being cast:\n",
    "```\n",
    "int(x)\n",
    "float(x)\n",
    "bool(x)\n",
    "str(x)\n",
    "```\n",
    "Casting from a **string** to an **int** will work *only* if it contains an integer value."
   ]
  },
  {
   "cell_type": "code",
   "execution_count": 3,
   "metadata": {},
   "outputs": [
    {
     "name": "stdout",
     "output_type": "stream",
     "text": [
      "False\n",
      "10\n"
     ]
    }
   ],
   "source": [
    "# 0 is False, 1 is True\n",
    "x = 0\n",
    "print(bool(x))\n",
    "\n",
    "print(int('5') + int('5'))"
   ]
  },
  {
   "cell_type": "code",
   "execution_count": 4,
   "metadata": {},
   "outputs": [
    {
     "name": "stdout",
     "output_type": "stream",
     "text": [
      "in this case, casting will not work\n"
     ]
    }
   ],
   "source": [
    "# exception handling\n",
    "try:\n",
    "    print(int('5,500'))\n",
    "except ValueError:\n",
    "    print('in this case, casting will not work')"
   ]
  },
  {
   "cell_type": "markdown",
   "metadata": {},
   "source": [
    "## Strings\n",
    "As seen above, **strings** are denoted by either single `''` or double `\"\"` quotes. You can use this to escape those quotes, though the backslash `\\` escape character will also work.\n",
    "```\n",
    "print('they said, \"i want this\"')\n",
    "print('they said, \"don\\'t do that\"')\n",
    "```\n",
    "It is also possible access certain characters or substrings in a **string** by using index values.\n",
    "- When specifying the range for a substring, the last character used will always be one less than the index you pass.\n",
    "- Using a negative index value will access the string in reverse starting at -1 for the last character. \n",
    "- Passing only 1 value will return the character at that index."
   ]
  },
  {
   "cell_type": "code",
   "execution_count": 5,
   "metadata": {},
   "outputs": [
    {
     "name": "stdout",
     "output_type": "stream",
     "text": [
      "hello, worm\n"
     ]
    }
   ],
   "source": [
    "msg = \"mhello, world\"\n",
    "print(msg[1:8] +  # substring of 'h' to 'w'     -> 'hello, '\n",
    "      msg[-5:-2]  # reverse index of 'w' to 'l' -> 'wor'\n",
    "      + msg[0])   # accesses one character, 'm' -> 'm'"
   ]
  },
  {
   "cell_type": "markdown",
   "metadata": {},
   "source": [
    "To return the index of the of a character in a **string**, use the built-in `index()` function, with the character being searched as the argument. The function will return the first occurence of that character, or an exception is raised if it does not find a match. Use exception handling if a match might not be found.\n",
    "\n",
    "You may also check if a **string** is in another **string** by using the `in` or `not in` keywords, which function as boolean operators and return either `True` or `False` if a string is **in** or **not in** another string"
   ]
  },
  {
   "cell_type": "code",
   "execution_count": 6,
   "metadata": {},
   "outputs": [
    {
     "name": "stdout",
     "output_type": "stream",
     "text": [
      "3\n",
      "not found!\n"
     ]
    }
   ],
   "source": [
    "print('worm'.index('m'))  # match is found\n",
    "try:\n",
    "    'world'.index('m')    # match is not found\n",
    "except ValueError:\n",
    "    print('not found!')"
   ]
  },
  {
   "cell_type": "code",
   "execution_count": 7,
   "metadata": {},
   "outputs": [
    {
     "name": "stdout",
     "output_type": "stream",
     "text": [
      "False\n",
      "True\n"
     ]
    }
   ],
   "source": [
    "print('worm' in 'world')      # match not found\n",
    "print('worm' not in 'world')  # match not found"
   ]
  },
  {
   "cell_type": "markdown",
   "metadata": {},
   "source": [
    "\n",
    "## Manipulation\n",
    "\n",
    "**Concatenation** - There are a variety of ways to concatenate **strings** in Python.\n",
    "- Use the overloaded plus `+` operator. Note, this will not work with values that are not of the **string** type.\n",
    "- Use a comma `,` between values of different types that you would like to combine.\n",
    "- You may also use the `format()` method, which replaces every occurence of curly braces `{}` in a **string** with the arguments passed to the function regardless of type.\n"
   ]
  },
  {
   "cell_type": "code",
   "execution_count": 8,
   "metadata": {},
   "outputs": [
    {
     "name": "stdout",
     "output_type": "stream",
     "text": [
      "hello, worm\n",
      "having a gr8 time?\n",
      "gr 8 time?? \n",
      "\n",
      "enter an integer: 56\n",
      "True, gr56 time actually!\n",
      "\n"
     ]
    }
   ],
   "source": [
    "print('h' + 'e' + 'l' + 'l' + 'o' + ', worm')\n",
    "print('having a gr' + str(4 + 4) + ' time?')  # concatenating typecasted int\n",
    "print('gr', 4 + 4, 'time??', '\\n')            # concatenating int with comma\n",
    "\n",
    "fun_thresh = int(input('enter an integer: ')) # integer\n",
    "is_nine = (fun_thresh >= 8)                   # boolean\n",
    "print('{}, gr{} time actually!\\n'.format(is_nine, fun_thresh))"
   ]
  },
  {
   "cell_type": "markdown",
   "metadata": {},
   "source": [
    "**Change Case** - to change the case of a string, use one of the following built-in functions.\n",
    "```\n",
    ".lower()\n",
    ".upper()\n",
    ".capitalize()\n",
    "```\n",
    "\n",
    "**Split & Join**\n",
    "- The `split()` method will seperate a string into multiple strings using the **delimiter** specified, the resulting strings are placed into an array.\n",
    "- Conversely, the `join()` method takes a string or array as a paramter and adds a new character between every character in that string]/array."
   ]
  },
  {
   "cell_type": "code",
   "execution_count": 9,
   "metadata": {},
   "outputs": [
    {
     "name": "stdout",
     "output_type": "stream",
     "text": [
      "['hello', ' you']\n",
      "a+b+c\n",
      "thefoxjumpedoverthefence\n",
      "the fox jumped over the fence\n"
     ]
    }
   ],
   "source": [
    "print('hello, you'.split(','))  # split\n",
    "print(\"+\".join('abc'))          # join string\n",
    "\n",
    "words_array = ['the', 'fox', 'jumped', 'over', 'the', 'fence']\n",
    "print(''.join(words_array))    # join array\n",
    "# join array\n",
    "print(' '. join(words_array))  # spaced string"
   ]
  },
  {
   "cell_type": "markdown",
   "metadata": {},
   "source": [
    "## Containers\n",
    "There are a few different types of arrays in Python. They are **lists**, **tuples**, and **dictionaries**. It is possible to check whether a value or a key is in a container by using the `in` and `not in` keywords, as with strings. Though for dictionaries, and exception will be raised if a matching key is not found.\n",
    "\n",
    "**lists** are mutable and iterable, and can be created by using the `list()` function or `[]` square brackets. Add a new item to the end of a list with the `append()` method, and remove an element with the `pop()` function. Values of varying data types may be added to the same list. Lists may be accessed using the index of the element as you would with arrays.\n",
    "``` \n",
    "list_one = list()\n",
    "list_two = []\n",
    "```"
   ]
  },
  {
   "cell_type": "code",
   "execution_count": 10,
   "metadata": {},
   "outputs": [
    {
     "name": "stdout",
     "output_type": "stream",
     "text": [
      "['pineapple', 'mango', 'watermelon', 69, 420]\n"
     ]
    }
   ],
   "source": [
    "fruit = ['pineapple',\n",
    "         'mango',\n",
    "         'watermelon']\n",
    "fruit.append(69)\n",
    "fruit.append(420)\n",
    "print(fruit)"
   ]
  },
  {
   "cell_type": "code",
   "execution_count": 11,
   "metadata": {},
   "outputs": [
    {
     "name": "stdout",
     "output_type": "stream",
     "text": [
      "the last element in the array is: 420\n",
      "tomato is a fruit? False\n",
      "your auto generated username: mango69\n"
     ]
    }
   ],
   "source": [
    "print('the last element in the array is: ' + str(fruit.pop()))           # remove and return last element\n",
    "print('tomato is a fruit? ' + str('tomato' in fruit))                    # in/ not in, boolean operators\n",
    "print('your auto generated username: ' + str(fruit[1]) + str(fruit[3]))  # access list -> cast to string"
   ]
  },
  {
   "cell_type": "code",
   "execution_count": 12,
   "metadata": {},
   "outputs": [
    {
     "name": "stdout",
     "output_type": "stream",
     "text": [
      "exception raised! index out of range\n",
      "['pineapple', 'mango', 'watermelon', 69]\n"
     ]
    }
   ],
   "source": [
    "try:  # index out of range\n",
    "    print(fruit[4])\n",
    "except IndexError:\n",
    "    print('exception raised! index out of range')\n",
    "    print(fruit)"
   ]
  },
  {
   "cell_type": "markdown",
   "metadata": {},
   "source": [
    "**Tuples** are immutable and iterable, and can be created by using the `tuple()` function or `()`parenthesis. Since they are immutable, tuples are useful for storing information or data that will never change, and when trying to ensure that other parts of the program won't change them. Tuples are indexed.\n",
    "```\n",
    "tuple_one = tuple()\n",
    "tuple_two = ()\n",
    "```"
   ]
  },
  {
   "cell_type": "code",
   "execution_count": 13,
   "metadata": {},
   "outputs": [
    {
     "name": "stdout",
     "output_type": "stream",
     "text": [
      "Do Androids Dream of Electric Sheep?\n"
     ]
    }
   ],
   "source": [
    "books = ['1984',\n",
    "         'Brave New World',\n",
    "         'Do Androids Dream of Electric Sheep?']\n",
    "print(books[2])"
   ]
  },
  {
   "cell_type": "markdown",
   "metadata": {},
   "source": [
    "**dictionaries** are mutable, though they not store objects in a specific order. instead they rely on the association formed between **keys** and **values**. They can be created by using the `dict()` function or `{}` curly brackets. Use `facts[]` to search a dictionary by it's key or to add a new **key-value pair**.\n",
    "```\n",
    "dict_one = dict()\n",
    "dict_two = {}\n",
    "```\n",
    "\n",
    "Containers may also be stored within other containers to create multi-dimensional arrays. For example, a **list, tuple, or dictionary** can also be a value in a **dictionary**. In this example, the dictionary `ca` has three keys: `location`, `cities`, and `facts`. The first key's value is a tuple because geographic coordinates never chage. The second key's value is a list of cities in california, and the third key's value pair is a dictionary because key value pairs are the best way to present facts about california. \n",
    "```\n",
    "ca = {'location':  # tuple value\n",
    "        (36.7783,\n",
    "        119.4179),\n",
    "        \n",
    "      'cities':    # list value\n",
    "        ['los angeles',\n",
    "        'oakland',\n",
    "        'san diego'],\n",
    "        \n",
    "      'facts':     # dict value\n",
    "        {'country': 'america',\n",
    "        'coast': 'west'}\n",
    "     }\n",
    "```"
   ]
  },
  {
   "cell_type": "code",
   "execution_count": 14,
   "metadata": {},
   "outputs": [
    {
     "name": "stdout",
     "output_type": "stream",
     "text": [
      "aight\n"
     ]
    }
   ],
   "source": [
    "moods = {'1':'fine',\n",
    "        '2':'blue',\n",
    "        '3':'lit',\n",
    "        '4':'ded'}\n",
    "moods['5'] = 'aight'\n",
    "print(moods['5'])"
   ]
  },
  {
   "cell_type": "code",
   "execution_count": 15,
   "metadata": {},
   "outputs": [
    {
     "name": "stdout",
     "output_type": "stream",
     "text": [
      "enter a number between 1 and 5: 4\n",
      "mood - ded\n"
     ]
    }
   ],
   "source": [
    "num = input('enter a number between 1 and 5: ')  # input always returns a string\n",
    "\n",
    "if num in moods:\n",
    "    mood = moods[num]\n",
    "    print('mood - ' + mood)\n",
    "else:\n",
    "    print('not found! v~v')"
   ]
  }
 ],
 "metadata": {
  "kernelspec": {
   "display_name": "Python 3",
   "language": "python",
   "name": "python3"
  },
  "language_info": {
   "codemirror_mode": {
    "name": "ipython",
    "version": 3
   },
   "file_extension": ".py",
   "mimetype": "text/x-python",
   "name": "python",
   "nbconvert_exporter": "python",
   "pygments_lexer": "ipython3",
   "version": "3.6.4"
  }
 },
 "nbformat": 4,
 "nbformat_minor": 2
}
