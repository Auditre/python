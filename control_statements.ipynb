{
 "cells": [
  {
   "cell_type": "markdown",
   "metadata": {},
   "source": [
    "# Python: control statements\n",
    "*Written by Michael D Sanchez for College of the Canyons' Association for Computing Machinery*\n",
    "\n",
    "**Contents**\n",
    "- [*Variable Assignment](http://localhost:8888/notebooks/the_basics.ipynb#Variable-Assignment)\n",
    "- *selection statements*\n",
    "- *conditional expressions*\n",
    "- *loop statements*\n",
    "- *regular expression*\n"
   ]
  },
  {
   "cell_type": "markdown",
   "metadata": {},
   "source": [
    "function are compound statements that can take input, execute instructions, and `return` an output. They allow you to define and reuse functionality in programs. They are denoted by using the `def` keyword followed by the identifier and the parameters. Python does not utilize curly braces to enclose statement block, and instead uses indentation to recognize a function.\n",
    "\n",
    "a function may take one, many, or infinite arguments in it's signature. it is also possible to initialize a function with default values for it's parameters by setting the parameter equal to the value desired.\n",
    "\n",
    "functions in python are similar to mathematical functions. For example, take the mathematical function f, defined as f(x) = x * 2 (The code below represents this same mathematical function as a python function):\n",
    "- f(2) = 4\n",
    "- f(10) = 20"
   ]
  },
  {
   "cell_type": "code",
   "execution_count": 8,
   "metadata": {},
   "outputs": [
    {
     "name": "stdout",
     "output_type": "stream",
     "text": [
      "f(2)= 4\n",
      "f(10)= 20\n"
     ]
    }
   ],
   "source": [
    "def f(x):\n",
    "    return x * 2\n",
    "\n",
    "print('f(2)=', f(2))\n",
    "print('f(10)=', f(10))"
   ]
  },
  {
   "cell_type": "markdown",
   "metadata": {},
   "source": [
    "Here is an example of the different ways that functions can be defined. When passing arguments to a function, they must be in the same order as the parameters defined in the function, unless they are passed using declarations. (i.e cond=True)"
   ]
  },
  {
   "cell_type": "code",
   "execution_count": 11,
   "metadata": {},
   "outputs": [],
   "source": [
    "def print_hello_world(): # no param, no return\n",
    "    print('hello from inside the function!')\n",
    "\n",
    "def return_hello_world(): # no param\n",
    "    return 'returning... hello, world!'\n",
    "\n",
    "def normal_param(num, cond): # normal param\n",
    "    print('the default condition?', cond)\n",
    "    print('the default number?', num)\n",
    "\n",
    "def default_param(num=69, cond=True,): # default param\n",
    "    print('the default condition?:', cond)\n",
    "    print('the default number?:', num)    "
   ]
  },
  {
   "cell_type": "markdown",
   "metadata": {},
   "source": [
    "the keyword `*args` can be used to pass a variable number of arguments to a function that has been previously defined to accept infinite paramaters by preceding the parameter with and asterick `*`."
   ]
  },
  {
   "cell_type": "code",
   "execution_count": null,
   "metadata": {},
   "outputs": [],
   "source": []
  }
 ],
 "metadata": {
  "kernelspec": {
   "display_name": "Python 3",
   "language": "python",
   "name": "python3"
  },
  "language_info": {
   "codemirror_mode": {
    "name": "ipython",
    "version": 3
   },
   "file_extension": ".py",
   "mimetype": "text/x-python",
   "name": "python",
   "nbconvert_exporter": "python",
   "pygments_lexer": "ipython3",
   "version": "3.6.4"
  }
 },
 "nbformat": 4,
 "nbformat_minor": 2
}
