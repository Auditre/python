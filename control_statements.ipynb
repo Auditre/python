{
 "cells": [
  {
   "cell_type": "markdown",
   "metadata": {},
   "source": [
    "# Python: control statements\n",
    "*Written by Michael D Sanchez for College of the Canyons' Association for Computing Machinery*\n",
    "\n",
    "**Contents**\n",
    "- [Functions](http://localhost:8888/notebooks/the_basics.ipynb#Defining_Functions)\n",
    "- *selection statements*\n",
    "- *conditional expressions*\n",
    "- *loop statements*\n",
    "- *regular expression*\n"
   ]
  },
  {
   "cell_type": "markdown",
   "metadata": {},
   "source": [
    "## Defining Functions\n",
    "function are compound statements that can take input, execute instructions, and `return` an output. They allow you to define and reuse functionality in programs. They are denoted by using the `def` keyword followed by the identifier and the parameters. Python does not utilize curly braces to enclose statement block, and instead uses indentation to recognize a function.\n",
    "\n",
    "a function may take one, many, or infinite arguments in it's signature. it is also possible to initialize a function with default values for it's parameters by setting the parameter equal to the value desired.\n",
    "\n",
    "functions in python are similar to mathematical functions. For example, take the mathematical function f, defined as f(x) = x * 2 (The code below represents this same mathematical function as a python function):\n",
    "- f(2) = 4\n",
    "- f(10) = 20"
   ]
  },
  {
   "cell_type": "code",
   "execution_count": 8,
   "metadata": {},
   "outputs": [
    {
     "name": "stdout",
     "output_type": "stream",
     "text": [
      "f(2)= 4\n",
      "f(10)= 20\n"
     ]
    }
   ],
   "source": [
    "def f(x):\n",
    "    return x * 2\n",
    "\n",
    "print('f(2)=', f(2))\n",
    "print('f(10)=', f(10))"
   ]
  },
  {
   "cell_type": "markdown",
   "metadata": {},
   "source": [
    "### Defining functions\n",
    "Here is an example of the different ways that functions can be defined. When passing arguments to a function, they must be in the same order as the parameters defined in the function, unless they are passed using the function's parameter identifier and a declaration. (i.e cond=True)"
   ]
  },
  {
   "cell_type": "code",
   "execution_count": 6,
   "metadata": {},
   "outputs": [],
   "source": [
    "def print_hello_world(): # no param, no return\n",
    "    print('hello from inside the function!')\n",
    "\n",
    "def return_hello_world(): # no param\n",
    "    return 'returning... hello, world!'\n",
    "\n",
    "def normal_param(num, cond): # normal param\n",
    "    print('the default condition?', cond)\n",
    "    print('the default number?', num)\n",
    "\n",
    "def default_param(num=69, cond=True,): # default param\n",
    "    print('the default condition?:', cond)\n",
    "    print('the default number?:', num)\n",
    "\n",
    "### calling functions ____________\n",
    "# print_hello_world()\n",
    "# print(return_hello_world())\n",
    "# normal_param(25, True)\n",
    "# default_param()\n",
    "# default_param(cond=False, num=68)"
   ]
  },
  {
   "cell_type": "markdown",
   "metadata": {},
   "source": [
    "### Advanced\n",
    "- the keyword `*args` can be used to pass a variable number of arguments to a function that has been previously defined to accept infinite paramaters by preceding the parameter with and asterick `*`.\n",
    "- `**kwargs` allows you to pass in dictionary type lists that are defined as key/value pairs as arguments to a function that has been previously defined to accept infinite parameters or infinite keyword arguments (kwargs) by using either an asterick `*` or doube asterick `**` for kwargs."
   ]
  },
  {
   "cell_type": "code",
   "execution_count": 7,
   "metadata": {},
   "outputs": [
    {
     "name": "stdout",
     "output_type": "stream",
     "text": [
      "first argument : ('Hello', 'Welcome', 'to', 'Control', 'Statements!')\n",
      "Next argument through *argn: Hello\n",
      "Next argument through *argn: Welcome\n",
      "Next argument through *argn: to\n",
      "Next argument through *argn: Control\n",
      "Next argument through *argn: Statements!\n"
     ]
    }
   ],
   "source": [
    "def arg_function(arg1, *argn): # using *args\n",
    "    print('first argument :', arg1)\n",
    "    for arg in argn:\n",
    "        print('Next argument through *argn:', arg)\n",
    " \n",
    "arg_function('Hello', 'Welcome', 'to', 'Control', 'Statements!')\n",
    "\n",
    "\n",
    "kwargs = {\"arg1\" : \"hey\", \"arg2\" : 14, \"arg3\" : \"joey\"}\n",
    "def testify(arg1, arg2, arg3):\n",
    "    print \"arg1:\", arg1\n",
    "    print \"arg2:\", arg2\n",
    "    print \"arg3:\", arg3\n",
    "\n",
    "arg1 : hey\n",
    "arg2 : 14\n",
    "arg3 : joey\n"
   ]
  },
  {
   "cell_type": "markdown",
   "metadata": {},
   "source": [
    "# Selection Statements\n",
    "In programming, selection statements are used to control the flow of execution of a program. They allow you to take specific actions, or run certain parts of code depending on the conditions that you specify.\n",
    "\n",
    "using `>`, `<`, the greater than/ less than symbols, we can compare values to each other. The result of these comparisons is either `True` or `False`, the data type we know as Boolean. The `>=`, `<=` \n",
    "\n",
    "To illlustrate this, take the example of the legal drinking age in California (21+). We can write a short script that will determine whether someone is of legal drinking age given their birthdate:"
   ]
  },
  {
   "cell_type": "code",
   "execution_count": 11,
   "metadata": {},
   "outputs": [
    {
     "name": "stdout",
     "output_type": "stream",
     "text": [
      "are you old enough to drink?\n",
      "drink up! *glug* *glug*\n"
     ]
    }
   ],
   "source": [
    "def isLegal(birthYear):\n",
    "    print('are you old enough to drink?')\n",
    "    age = 2018 - birthYear\n",
    "    if (age < 21):\n",
    "        print('not old enough to drink!')\n",
    "    else:\n",
    "        print('drink up! *glug* *glug*')\n",
    "        \n",
    "isLegal(1993)"
   ]
  },
  {
   "cell_type": "markdown",
   "metadata": {},
   "source": [
    "### Alternatives"
   ]
  }
 ],
 "metadata": {
  "kernelspec": {
   "display_name": "Python 3",
   "language": "python",
   "name": "python3"
  },
  "language_info": {
   "codemirror_mode": {
    "name": "ipython",
    "version": 3
   },
   "file_extension": ".py",
   "mimetype": "text/x-python",
   "name": "python",
   "nbconvert_exporter": "python",
   "pygments_lexer": "ipython3",
   "version": "3.6.4"
  }
 },
 "nbformat": 4,
 "nbformat_minor": 2
}
